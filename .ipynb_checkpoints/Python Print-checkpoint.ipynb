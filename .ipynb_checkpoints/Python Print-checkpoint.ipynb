{
 "cells": [
  {
   "cell_type": "markdown",
   "metadata": {},
   "source": [
    "# The modulo (%) operator"
   ]
  },
  {
   "cell_type": "markdown",
   "metadata": {},
   "source": [
    "### https://docs.python.org/3/library/stdtypes.html#printf-style-string-formatting"
   ]
  },
  {
   "cell_type": "code",
   "execution_count": 1,
   "metadata": {},
   "outputs": [
    {
     "name": "stdout",
     "output_type": "stream",
     "text": [
      "Zeroth Value: 1\n"
     ]
    }
   ],
   "source": [
    "mylist = [1,2,3]\n",
    "print(\"Zeroth Value: %d\" % mylist[0])"
   ]
  },
  {
   "cell_type": "code",
   "execution_count": 2,
   "metadata": {},
   "outputs": [
    {
     "name": "stdout",
     "output_type": "stream",
     "text": [
      "1\n"
     ]
    }
   ],
   "source": [
    "print(\"%d\" % mylist[0])"
   ]
  },
  {
   "cell_type": "markdown",
   "metadata": {},
   "source": [
    "## PrettyTable"
   ]
  },
  {
   "cell_type": "code",
   "execution_count": 3,
   "metadata": {},
   "outputs": [
    {
     "name": "stdout",
     "output_type": "stream",
     "text": [
      "+-------------------------------------------------------+\n",
      "|                    Conversion Types                   |\n",
      "+------------+------------------------------------------+\n",
      "| Conversion | Meaning                                  |\n",
      "+------------+------------------------------------------+\n",
      "| 'd'        | Signed integer decimal                   |\n",
      "| 'i'        | Signed integer decimal                   |\n",
      "| 'o'        | Signed octal value                       |\n",
      "| 'x'        | Signed hexadecimal (lowercase)           |\n",
      "| 'X'        | Signed hexadecimal (uppercase)           |\n",
      "| 'e'        | Floating point exponential format        |\n",
      "|            | (lowercase)                              |\n",
      "| 'E'        | Floating point exponential format        |\n",
      "|            | (uppercase)                              |\n",
      "| 'f'        | Floating point decimal format            |\n",
      "| 'F'        | Floating point decimal format            |\n",
      "| 'g'        | Floating point format. Uses lowercase    |\n",
      "|            | exponential format if exponent is less   |\n",
      "|            | than -4 or not less than precision,      |\n",
      "|            | decimal format otherwise                 |\n",
      "| 'G'        | Floating point format. Uses uppercase    |\n",
      "|            | exponential format if exponent is less   |\n",
      "|            | than -4 or not less than precision,      |\n",
      "|            | decimal format otherwise                 |\n",
      "| 'c'        | Single character (accepts integer or     |\n",
      "|            | single character string)                 |\n",
      "| 'r'        | String (converts any Python object using |\n",
      "|            | repr())                                  |\n",
      "| 's'        | String (converts any Python object using |\n",
      "|            | str())                                   |\n",
      "| 'a'        | String (converts any Python object using |\n",
      "|            | ascii())                                 |\n",
      "| '%'        | No argument is converted, results in a   |\n",
      "|            | '%' character in the result              |\n",
      "+------------+------------------------------------------+\n"
     ]
    }
   ],
   "source": [
    "from prettytable import PrettyTable\n",
    "x = PrettyTable([\"Conversion\", \"Meaning\"], title=\"Conversion Types\", max_width=40, align=\"l\")\n",
    "#x.field_names = [\"Conversion\", \"Meaning\"]\n",
    "x.add_row([\"'d'\", \"Signed integer decimal\"])\n",
    "x.add_row([\"'i'\", \"Signed integer decimal\"])\n",
    "x.add_row([\"'o'\", \"Signed octal value\"])\n",
    "x.add_row([\"'x'\", \"Signed hexadecimal (lowercase)\"])\n",
    "x.add_row([\"'X'\", \"Signed hexadecimal (uppercase)\"])\n",
    "x.add_row([\"'e'\", \"Floating point exponential format (lowercase)\"])\n",
    "x.add_row([\"'E'\", \"Floating point exponential format (uppercase)\"])\n",
    "x.add_row([\"'f'\", \"Floating point decimal format\"])\n",
    "x.add_row([\"'F'\", \"Floating point decimal format\"])\n",
    "x.add_row([\"'g'\", \"Floating point format. Uses lowercase exponential format if exponent is less than -4 or not less than precision, decimal format otherwise\"])\n",
    "x.add_row([\"'G'\", \"Floating point format. Uses uppercase exponential format if exponent is less than -4 or not less than precision, decimal format otherwise\"])\n",
    "x.add_row([\"'c'\", \"Single character (accepts integer or single character string)\"])\n",
    "x.add_row([\"'r'\", \"String (converts any Python object using repr())\"])\n",
    "x.add_row([\"'s'\", \"String (converts any Python object using str())\"])\n",
    "x.add_row([\"'a'\", \"String (converts any Python object using ascii())\"])\n",
    "x.add_row([\"'%'\", \"No argument is converted, results in a '%' character in the result\"])\n",
    "\n",
    "print(x)"
   ]
  },
  {
   "cell_type": "code",
   "execution_count": 4,
   "metadata": {},
   "outputs": [
    {
     "ename": "TypeError",
     "evalue": "object of type 'int' has no len()",
     "output_type": "error",
     "traceback": [
      "\u001b[0;31m---------------------------------------------------------------------------\u001b[0m",
      "\u001b[0;31mTypeError\u001b[0m                                 Traceback (most recent call last)",
      "\u001b[0;32m<ipython-input-4-a66e9ba34288>\u001b[0m in \u001b[0;36m<module>\u001b[0;34m\u001b[0m\n\u001b[1;32m     21\u001b[0m         \u001b[0mtable\u001b[0m\u001b[0;34m.\u001b[0m\u001b[0mprint_line\u001b[0m\u001b[0;34m(\u001b[0m\u001b[0;34m*\u001b[0m\u001b[0mline\u001b[0m\u001b[0;34m)\u001b[0m\u001b[0;34m\u001b[0m\u001b[0;34m\u001b[0m\u001b[0m\n\u001b[1;32m     22\u001b[0m \u001b[0;34m\u001b[0m\u001b[0m\n\u001b[0;32m---> 23\u001b[0;31m \u001b[0mextended_print_example\u001b[0m\u001b[0;34m(\u001b[0m\u001b[0;34m)\u001b[0m\u001b[0;34m\u001b[0m\u001b[0;34m\u001b[0m\u001b[0m\n\u001b[0m",
      "\u001b[0;32m<ipython-input-4-a66e9ba34288>\u001b[0m in \u001b[0;36mextended_print_example\u001b[0;34m()\u001b[0m\n\u001b[1;32m      6\u001b[0m \u001b[0;34m\u001b[0m\u001b[0m\n\u001b[1;32m      7\u001b[0m     \u001b[0mtable\u001b[0m \u001b[0;34m=\u001b[0m \u001b[0mPrettyTable\u001b[0m\u001b[0;34m(\u001b[0m\u001b[0;34m)\u001b[0m\u001b[0;34m\u001b[0m\u001b[0;34m\u001b[0m\u001b[0m\n\u001b[0;32m----> 8\u001b[0;31m     \u001b[0mtable\u001b[0m\u001b[0;34m.\u001b[0m\u001b[0madd_column\u001b[0m\u001b[0;34m(\u001b[0m\u001b[0;34m'Conversion'\u001b[0m\u001b[0;34m,\u001b[0m \u001b[0;36m3\u001b[0m\u001b[0;34m)\u001b[0m\u001b[0;34m\u001b[0m\u001b[0;34m\u001b[0m\u001b[0m\n\u001b[0m\u001b[1;32m      9\u001b[0m     \u001b[0mtable\u001b[0m\u001b[0;34m.\u001b[0m\u001b[0madd_column\u001b[0m\u001b[0;34m(\u001b[0m\u001b[0;34m'Meaning'\u001b[0m\u001b[0;34m,\u001b[0m \u001b[0;36m5\u001b[0m\u001b[0;34m)\u001b[0m\u001b[0;34m\u001b[0m\u001b[0;34m\u001b[0m\u001b[0m\n\u001b[1;32m     10\u001b[0m     \u001b[0;31m# Notice how the column width is 10, but the values is formatted to\u001b[0m\u001b[0;34m\u001b[0m\u001b[0;34m\u001b[0m\u001b[0;34m\u001b[0m\u001b[0m\n",
      "\u001b[0;32m~/anaconda3/lib/python3.7/site-packages/prettytable/prettytable.py\u001b[0m in \u001b[0;36madd_column\u001b[0;34m(self, fieldname, column, align, valign)\u001b[0m\n\u001b[1;32m    955\u001b[0m         valign - desired vertical alignment for new columns - \"t\" for top, \"m\" for middle and \"b\" for bottom\"\"\"\n\u001b[1;32m    956\u001b[0m \u001b[0;34m\u001b[0m\u001b[0m\n\u001b[0;32m--> 957\u001b[0;31m         \u001b[0;32mif\u001b[0m \u001b[0mlen\u001b[0m\u001b[0;34m(\u001b[0m\u001b[0mself\u001b[0m\u001b[0;34m.\u001b[0m\u001b[0m_rows\u001b[0m\u001b[0;34m)\u001b[0m \u001b[0;32min\u001b[0m \u001b[0;34m(\u001b[0m\u001b[0;36m0\u001b[0m\u001b[0;34m,\u001b[0m \u001b[0mlen\u001b[0m\u001b[0;34m(\u001b[0m\u001b[0mcolumn\u001b[0m\u001b[0;34m)\u001b[0m\u001b[0;34m)\u001b[0m\u001b[0;34m:\u001b[0m\u001b[0;34m\u001b[0m\u001b[0;34m\u001b[0m\u001b[0m\n\u001b[0m\u001b[1;32m    958\u001b[0m             \u001b[0mself\u001b[0m\u001b[0;34m.\u001b[0m\u001b[0m_validate_align\u001b[0m\u001b[0;34m(\u001b[0m\u001b[0malign\u001b[0m\u001b[0;34m)\u001b[0m\u001b[0;34m\u001b[0m\u001b[0;34m\u001b[0m\u001b[0m\n\u001b[1;32m    959\u001b[0m             \u001b[0mself\u001b[0m\u001b[0;34m.\u001b[0m\u001b[0m_validate_valign\u001b[0m\u001b[0;34m(\u001b[0m\u001b[0mvalign\u001b[0m\u001b[0;34m)\u001b[0m\u001b[0;34m\u001b[0m\u001b[0;34m\u001b[0m\u001b[0m\n",
      "\u001b[0;31mTypeError\u001b[0m: object of type 'int' has no len()"
     ]
    }
   ],
   "source": [
    "def extended_print_example():\n",
    "    MY_DATA = [\n",
    "      ( \"'d'\", \"Signed integer decimal\"),\n",
    "      ( \"'i'\", \"Signed integer decimal\"),\n",
    "      ( \"'o'\", \"Signed octal value\")]\n",
    "\n",
    "    table = PrettyTable()\n",
    "    table.add_column('Conversion', 3)\n",
    "    table.add_column('Meaning', 5)\n",
    "    # Notice how the column width is 10, but the values is formatted to\n",
    "    # max width of 5 and padded with '*' and always showing sign character\n",
    "    # and finally this formatted value is left aligned...\n",
    "    #table.add_column('Int2', 10, column_alignment='<', value_format='{:*=+#5}')\n",
    "    #table.add_column('Name', 7, column_alignment='^')\n",
    "    #table.add_column('Value', 7, value_format='{:,.4f}')\n",
    "\n",
    "    table.print_header()\n",
    "    table.print_separator()\n",
    "\n",
    "    for line in MY_DATA:\n",
    "        table.print_line(*line)\n",
    "\n",
    "extended_print_example()"
   ]
  },
  {
   "cell_type": "code",
   "execution_count": 28,
   "metadata": {},
   "outputs": [
    {
     "name": "stdout",
     "output_type": "stream",
     "text": [
      "+------------+--------------------------------------------------------------------------------------------------------------------------------------------+\n",
      "| Conversion |                                                                  Meaning                                                                   |\n",
      "+------------+--------------------------------------------------------------------------------------------------------------------------------------------+\n",
      "|     d      |                                                          Signed integer decimal.                                                           |\n",
      "|     i      |                                                          Signed integer decimal.                                                           |\n",
      "|     o      |                                                            Signed octal value.                                                             |\n",
      "|     u      |                                                   Obsolete type - it is identical to d.                                                    |\n",
      "|     x      |                                                      Signed hexadecimal (lowercase).                                                       |\n",
      "|     X      |                                                      Signed hexadecimal (uppercase).                                                       |\n",
      "|     e      |                                               Floating point exponential format (lowercase).                                               |\n",
      "|     E      |                                               Floating point exponential format (uppercase).                                               |\n",
      "|     f      |                                                       Floating point decimal format.                                                       |\n",
      "|     F      |                                                       Floating point decimal format.                                                       |\n",
      "|     g      | Floating point format. Uses lowercase exponential format if exponent is less than -4 or not less than precision, decimal format otherwise. |\n",
      "|     G      | Floating point format. Uses uppercase exponential format if exponent is less than -4 or not less than precision, decimal format otherwise. |\n",
      "|     c      |                                       Single character (accepts integer or single character string).                                       |\n",
      "|     r      |                                             String (converts any Python object using repr()).                                              |\n",
      "|     s      |                                              String (converts any Python object using str()).                                              |\n",
      "|     a      |                                             String (converts any Python object using ascii()).                                             |\n",
      "|     %      |                                    No argument is converted, results in a %\" character in the result.\"                                     |\n",
      "+------------+--------------------------------------------------------------------------------------------------------------------------------------------+\n"
     ]
    }
   ],
   "source": [
    "from prettytable import from_csv\n",
    "with open(\"/Users/aasuncion/Documents/GitHub/Python-ML-Basics/data/test.csv\", \"r\") as fp: \n",
    "    x = from_csv(fp, fieldnames=[\"Conversion\",\"Meaning\"], max_width=40, align=\"l\")\n",
    "print(x)"
   ]
  },
  {
   "cell_type": "markdown",
   "metadata": {},
   "source": [
    "## Using Tabulate\n",
    "### https://stackoverflow.com/questions/18528533/pretty-printing-a-pandas-dataframe"
   ]
  },
  {
   "cell_type": "code",
   "execution_count": 23,
   "metadata": {},
   "outputs": [
    {
     "name": "stdout",
     "output_type": "stream",
     "text": [
      "+----+-----------+-------------+\n",
      "|    |   col_two | column_3    |\n",
      "|----+-----------+-------------|\n",
      "|  0 |    0.0001 | ABCD        |\n",
      "|  1 |    1e-05  | ABCD        |\n",
      "|  2 |    1e-06  | long string |\n",
      "|  3 |    1e-07  | ABCD        |\n",
      "+----+-----------+-------------+\n"
     ]
    }
   ],
   "source": [
    "from tabulate import tabulate\n",
    "import pandas as pd\n",
    "\n",
    "df = pd.DataFrame({'col_two' : [0.0001, 1e-005 , 1e-006, 1e-007],\n",
    "                   'column_3' : ['ABCD', 'ABCD', 'long string', 'ABCD']})\n",
    "print(tabulate(df, headers='keys', tablefmt='psql'))"
   ]
  },
  {
   "cell_type": "markdown",
   "metadata": {},
   "source": [
    "## Using iPython Display\n",
    "### https://stackoverflow.com/questions/18528533/pretty-printing-a-pandas-dataframe"
   ]
  },
  {
   "cell_type": "code",
   "execution_count": 26,
   "metadata": {},
   "outputs": [
    {
     "data": {
      "text/html": [
       "<table border=\"1\" class=\"dataframe\">\n",
       "  <thead>\n",
       "    <tr style=\"text-align: right;\">\n",
       "      <th></th>\n",
       "      <th>col_two</th>\n",
       "      <th>column_3</th>\n",
       "    </tr>\n",
       "  </thead>\n",
       "  <tbody>\n",
       "    <tr>\n",
       "      <th>0</th>\n",
       "      <td>1.000000e-04</td>\n",
       "      <td>ABCD</td>\n",
       "    </tr>\n",
       "    <tr>\n",
       "      <th>1</th>\n",
       "      <td>1.000000e-05</td>\n",
       "      <td>ABCD</td>\n",
       "    </tr>\n",
       "    <tr>\n",
       "      <th>2</th>\n",
       "      <td>1.000000e-06</td>\n",
       "      <td>long string</td>\n",
       "    </tr>\n",
       "    <tr>\n",
       "      <th>3</th>\n",
       "      <td>1.000000e-07</td>\n",
       "      <td>ABCD</td>\n",
       "    </tr>\n",
       "  </tbody>\n",
       "</table>"
      ],
      "text/plain": [
       "<IPython.core.display.HTML object>"
      ]
     },
     "metadata": {},
     "output_type": "display_data"
    }
   ],
   "source": [
    "from IPython.display import display, HTML\n",
    "\n",
    "display(HTML(df.to_html()))"
   ]
  },
  {
   "cell_type": "markdown",
   "metadata": {},
   "source": [
    "### https://pandas.pydata.org/pandas-docs/version/0.23.4/generated/pandas.DataFrame.to_html.html"
   ]
  },
  {
   "cell_type": "code",
   "execution_count": 68,
   "metadata": {},
   "outputs": [
    {
     "data": {
      "text/html": [
       "<table border=\"1\" class=\"dataframe\">\n",
       "  <thead>\n",
       "    <tr style=\"text-align: left;\">\n",
       "      <th>Conversion</th>\n",
       "      <th>Meaning</th>\n",
       "    </tr>\n",
       "  </thead>\n",
       "  <tbody>\n",
       "    <tr>\n",
       "      <td>d</td>\n",
       "      <td>Signed integer decimal.</td>\n",
       "    </tr>\n",
       "    <tr>\n",
       "      <td>i</td>\n",
       "      <td>Signed integer decimal.</td>\n",
       "    </tr>\n",
       "    <tr>\n",
       "      <td>o</td>\n",
       "      <td>Signed octal value.</td>\n",
       "    </tr>\n",
       "    <tr>\n",
       "      <td>u</td>\n",
       "      <td>Obsolete type - it is identical to d.</td>\n",
       "    </tr>\n",
       "    <tr>\n",
       "      <td>x</td>\n",
       "      <td>Signed hexadecimal (lowercase).</td>\n",
       "    </tr>\n",
       "    <tr>\n",
       "      <td>X</td>\n",
       "      <td>Signed hexadecimal (uppercase).</td>\n",
       "    </tr>\n",
       "    <tr>\n",
       "      <td>e</td>\n",
       "      <td>Floating point exponential format (lowercase).</td>\n",
       "    </tr>\n",
       "    <tr>\n",
       "      <td>E</td>\n",
       "      <td>Floating point exponential format (uppercase).</td>\n",
       "    </tr>\n",
       "    <tr>\n",
       "      <td>f</td>\n",
       "      <td>Floating point decimal format.</td>\n",
       "    </tr>\n",
       "    <tr>\n",
       "      <td>F</td>\n",
       "      <td>Floating point decimal format.</td>\n",
       "    </tr>\n",
       "    <tr>\n",
       "      <td>g</td>\n",
       "      <td>Floating point format. Uses lowercase exponent...</td>\n",
       "    </tr>\n",
       "    <tr>\n",
       "      <td>G</td>\n",
       "      <td>Floating point format. Uses uppercase exponent...</td>\n",
       "    </tr>\n",
       "    <tr>\n",
       "      <td>c</td>\n",
       "      <td>Single character (accepts integer or single ch...</td>\n",
       "    </tr>\n",
       "    <tr>\n",
       "      <td>r</td>\n",
       "      <td>String (converts any Python object using repr()).</td>\n",
       "    </tr>\n",
       "    <tr>\n",
       "      <td>s</td>\n",
       "      <td>String (converts any Python object using str()).</td>\n",
       "    </tr>\n",
       "    <tr>\n",
       "      <td>a</td>\n",
       "      <td>String (converts any Python object using ascii...</td>\n",
       "    </tr>\n",
       "    <tr>\n",
       "      <td>%</td>\n",
       "      <td>No argument is converted, results in a %\" char...</td>\n",
       "    </tr>\n",
       "  </tbody>\n",
       "</table>"
      ],
      "text/plain": [
       "<IPython.core.display.HTML object>"
      ]
     },
     "metadata": {},
     "output_type": "display_data"
    }
   ],
   "source": [
    "from IPython.display import display, HTML\n",
    "df2 = pd.read_csv(\"/Users/aasuncion/Documents/GitHub/Python-ML-Basics/data/test.csv\")\n",
    "display(HTML(df2.to_html(header=True, columns=None, index=False, justify='left')))"
   ]
  },
  {
   "cell_type": "code",
   "execution_count": null,
   "metadata": {},
   "outputs": [],
   "source": []
  }
 ],
 "metadata": {
  "kernelspec": {
   "display_name": "Python 3",
   "language": "python",
   "name": "python3"
  },
  "language_info": {
   "codemirror_mode": {
    "name": "ipython",
    "version": 3
   },
   "file_extension": ".py",
   "mimetype": "text/x-python",
   "name": "python",
   "nbconvert_exporter": "python",
   "pygments_lexer": "ipython3",
   "version": "3.7.3"
  }
 },
 "nbformat": 4,
 "nbformat_minor": 2
}
