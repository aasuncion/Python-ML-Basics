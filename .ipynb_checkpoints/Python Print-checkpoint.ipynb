{
 "cells": [
  {
   "cell_type": "markdown",
   "metadata": {},
   "source": [
    "# The modulo (%) operator"
   ]
  },
  {
   "cell_type": "markdown",
   "metadata": {},
   "source": [
    "### https://docs.python.org/3/library/stdtypes.html#printf-style-string-formatting"
   ]
  },
  {
   "cell_type": "code",
   "execution_count": 3,
   "metadata": {},
   "outputs": [
    {
     "name": "stdout",
     "output_type": "stream",
     "text": [
      "Zeroth Value: 1\n"
     ]
    }
   ],
   "source": [
    "mylist = [1,2,3]\n",
    "print(\"Zeroth Value: %d\" % mylist[0])"
   ]
  },
  {
   "cell_type": "code",
   "execution_count": 7,
   "metadata": {},
   "outputs": [
    {
     "name": "stdout",
     "output_type": "stream",
     "text": [
      "1\n"
     ]
    }
   ],
   "source": [
    "print(\"%d\" % mylist[0])"
   ]
  },
  {
   "cell_type": "code",
   "execution_count": 14,
   "metadata": {},
   "outputs": [
    {
     "name": "stdout",
     "output_type": "stream",
     "text": [
      "+------------+-----------------------------------------------+\n",
      "| Conversion |                    Meaning                    |\n",
      "+------------+-----------------------------------------------+\n",
      "|    'd'     |             Signed integer decimal            |\n",
      "|    'i'     |             Signed integer decimal            |\n",
      "|    'o'     |               Signed octal value              |\n",
      "|    'x'     |         Signed hexadecimal (lowercase)        |\n",
      "|    'X'     |         Signed hexadecimal (uppercase)        |\n",
      "|    'e'     | Floating point exponential format (lowercase) |\n",
      "|    'E'     | Floating point exponential format (uppercase) |\n",
      "+------------+-----------------------------------------------+\n"
     ]
    }
   ],
   "source": [
    "from prettytable import PrettyTable\n",
    "x = PrettyTable()\n",
    "x.field_names = [\"Conversion\", \"Meaning\"]\n",
    "x.add_row([\"'d'\", \"Signed integer decimal\"])\n",
    "x.add_row([\"'i'\", \"Signed integer decimal\"])\n",
    "x.add_row([\"'o'\", \"Signed octal value\"])\n",
    "x.add_row([\"'x'\", \"Signed hexadecimal (lowercase)\"])\n",
    "x.add_row([\"'X'\", \"Signed hexadecimal (uppercase)\"])\n",
    "x.add_row([\"'e'\", \"Floating point exponential format (lowercase)\"])\n",
    "x.add_row([\"'E'\", \"Floating point exponential format (uppercase)\"])\n",
    "print(x)"
   ]
  },
  {
   "cell_type": "code",
   "execution_count": null,
   "metadata": {},
   "outputs": [],
   "source": []
  }
 ],
 "metadata": {
  "kernelspec": {
   "display_name": "Python 3",
   "language": "python",
   "name": "python3"
  },
  "language_info": {
   "codemirror_mode": {
    "name": "ipython",
    "version": 3
   },
   "file_extension": ".py",
   "mimetype": "text/x-python",
   "name": "python",
   "nbconvert_exporter": "python",
   "pygments_lexer": "ipython3",
   "version": "3.7.3"
  }
 },
 "nbformat": 4,
 "nbformat_minor": 2
}
